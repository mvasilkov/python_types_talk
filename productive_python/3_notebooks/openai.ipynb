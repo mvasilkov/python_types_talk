{
 "cells": [
  {
   "cell_type": "code",
   "execution_count": null,
   "metadata": {},
   "outputs": [],
   "source": [
    "from langchain import LLMChain, PromptTemplate\n",
    "from langchain.chat_models import ChatOpenAI\n",
    "from langchain.llms import VertexAI"
   ]
  },
  {
   "cell_type": "code",
   "execution_count": null,
   "metadata": {},
   "outputs": [],
   "source": [
    "class LMBackend:\n",
    "    chain: LLMChain\n",
    "\n",
    "    def request(self, text: str) -> str:\n",
    "        result = self.chain.run(text=text)\n",
    "\n",
    "        return result"
   ]
  },
  {
   "cell_type": "code",
   "execution_count": null,
   "metadata": {},
   "outputs": [],
   "source": [
    "class OpenAIBackend(LMBackend):\n",
    "    def __init__(self):\n",
    "        prompt_template = PromptTemplate(\n",
    "            template='{text}',\n",
    "            input_variables=['text'],\n",
    "        )\n",
    "\n",
    "        llm = ChatOpenAI(model_name='gpt-3.5-turbo', temperature=0.44, max_tokens=512)\n",
    "\n",
    "        self.chain = LLMChain(prompt=prompt_template, llm=llm)"
   ]
  },
  {
   "cell_type": "code",
   "execution_count": null,
   "metadata": {},
   "outputs": [],
   "source": [
    "class PaLMBackend(LMBackend):\n",
    "    def __init__(self):\n",
    "        prompt_template = PromptTemplate(\n",
    "            template='{text}',\n",
    "            input_variables=['text'],\n",
    "        )\n",
    "\n",
    "        llm = VertexAI(model_name='text-bison@001', temperature=0.44, max_output_tokens=512)\n",
    "\n",
    "        self.chain = LLMChain(prompt=prompt_template, llm=llm)"
   ]
  },
  {
   "cell_type": "code",
   "execution_count": null,
   "metadata": {},
   "outputs": [],
   "source": [
    "backend = PaLMBackend()\n",
    "result = backend.request(text='Complete the sentence: noname security is...')\n",
    "\n",
    "print(result)"
   ]
  }
 ],
 "metadata": {
  "kernelspec": {
   "display_name": "virtual",
   "language": "python",
   "name": "python3"
  },
  "language_info": {
   "codemirror_mode": {
    "name": "ipython",
    "version": 3
   },
   "file_extension": ".py",
   "mimetype": "text/x-python",
   "name": "python",
   "nbconvert_exporter": "python",
   "pygments_lexer": "ipython3",
   "version": "3.11.2"
  },
  "orig_nbformat": 4
 },
 "nbformat": 4,
 "nbformat_minor": 2
}
