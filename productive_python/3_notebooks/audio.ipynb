{
 "cells": [
  {
   "cell_type": "code",
   "execution_count": null,
   "metadata": {},
   "outputs": [],
   "source": [
    "import matplotlib.pyplot as plt\n",
    "import numpy as np\n",
    "import pyaudio"
   ]
  },
  {
   "cell_type": "code",
   "execution_count": null,
   "metadata": {},
   "outputs": [],
   "source": [
    "SAMPLE_RATE = 16_000\n",
    "CHUNK_SIZE = 1024\n",
    "\n",
    "audio = pyaudio.PyAudio()\n",
    "\n",
    "istream = audio.open(\n",
    "    format=pyaudio.paFloat32,\n",
    "    channels=1,\n",
    "    rate=SAMPLE_RATE,\n",
    "    input=True,\n",
    "    frames_per_buffer=CHUNK_SIZE,\n",
    ")\n",
    "\n",
    "# Record audio\n",
    "chunks = [istream.read(CHUNK_SIZE) for _ in range(48)]\n",
    "\n",
    "istream.stop_stream()\n",
    "istream.close()\n",
    "\n",
    "audio.terminate()\n",
    "\n",
    "# Convert the audio data to a numpy float32 array\n",
    "audio_buf = np.hstack([np.frombuffer(buf, np.float32) for buf in chunks])"
   ]
  },
  {
   "cell_type": "code",
   "execution_count": null,
   "metadata": {},
   "outputs": [],
   "source": [
    "from IPython.display import Audio\n",
    "\n",
    "display(Audio(audio_buf, rate=SAMPLE_RATE))"
   ]
  },
  {
   "cell_type": "code",
   "execution_count": null,
   "metadata": {},
   "outputs": [],
   "source": [
    "times = np.linspace(0, len(audio_buf) / SAMPLE_RATE, num=len(audio_buf))\n",
    "\n",
    "plt.figure(figsize=(10, 5))\n",
    "plt.plot(times, audio_buf)\n",
    "plt.ylabel('Value')\n",
    "plt.xlabel('Time (s)')\n",
    "plt.show()"
   ]
  },
  {
   "cell_type": "code",
   "execution_count": null,
   "metadata": {},
   "outputs": [],
   "source": [
    "plt.figure(figsize=(10, 5))\n",
    "plt.specgram(audio_buf, Fs=SAMPLE_RATE, vmin=-100, vmax=50)\n",
    "plt.ylabel('Frequency (Hz)')\n",
    "plt.xlabel('Time (s)')\n",
    "plt.colorbar()\n",
    "plt.show()"
   ]
  }
 ],
 "metadata": {
  "kernelspec": {
   "display_name": "virtual",
   "language": "python",
   "name": "python3"
  },
  "language_info": {
   "codemirror_mode": {
    "name": "ipython",
    "version": 3
   },
   "file_extension": ".py",
   "mimetype": "text/x-python",
   "name": "python",
   "nbconvert_exporter": "python",
   "pygments_lexer": "ipython3",
   "version": "3.11.2"
  },
  "orig_nbformat": 4
 },
 "nbformat": 4,
 "nbformat_minor": 2
}
